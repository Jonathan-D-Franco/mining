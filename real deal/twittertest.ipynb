{
 "cells": [
  {
   "cell_type": "code",
   "execution_count": 45,
   "metadata": {},
   "outputs": [
    {
     "name": "stderr",
     "output_type": "stream",
     "text": [
      "C:\\Users\\djona\\AppData\\Local\\Temp\\ipykernel_20448\\3620960423.py:24: FutureWarning: content is deprecated, use rawContent instead\n",
      "  tweets_list1.append([tweet.content]) # declare the attributes to be returned\n"
     ]
    }
   ],
   "source": [
    "import snscrape.modules.twitter as sntwitter\n",
    "import pandas as pd\n",
    "import seaborn as cb\n",
    "from pyvis.network import Network\n",
    "import json\n",
    "import numpy as np\n",
    "import nltk \n",
    "from nltk import bigrams\n",
    "from nltk.corpus import stopwords\n",
    "from nltk.tokenize import TweetTokenizer\n",
    "import re\n",
    "import networkx as nx\n",
    "import matplotlib.pyplot as plt\n",
    "import itertools\n",
    "import collections\n",
    "\n",
    "\n",
    "tweets_list1 = []\n",
    "\n",
    "#scrape data and append tweets to list\n",
    "for i, tweet in enumerate(sntwitter.TwitterSearchScraper('Covid Vaccine since:2021-12-10 until:2022-02-20').get_items()): # declare a username\n",
    "  if i>2000: #number of tweets you want to scrape\n",
    "    break\n",
    "  tweets_list1.append([tweet.content]) # declare the attributes to be returned\n",
    "\n",
    "# creating a dataframe from the list\n",
    "tweets_df1 = pd.DataFrame(tweets_list1, columns=['Text'])"
   ]
  },
  {
   "cell_type": "code",
   "execution_count": 46,
   "metadata": {},
   "outputs": [],
   "source": [
    "file = open(\"tweets1.json\",'w')\n",
    "j = json.dumps(tweets_list1, default = str)\n",
    "file.write(j)\n",
    "file.close()"
   ]
  },
  {
   "cell_type": "code",
   "execution_count": 52,
   "metadata": {},
   "outputs": [],
   "source": [
    "def clean_text(txt):\n",
    "    #url_pat = re.compile(r'https?//\\s+|www\\.\\S+')\n",
    "    cleaned = re.sub(r\"http\\S+\",\"\", txt)\n",
    "    return cleaned"
   ]
  },
  {
   "cell_type": "code",
   "execution_count": 74,
   "metadata": {},
   "outputs": [],
   "source": [
    "cleaned_text = [clean_text(elements) for elements in tweets_df1.Text]\n",
    "tt = TweetTokenizer()\n",
    "normalize = [tt.tokenize(elements.lower()) for elements in cleaned_text]"
   ]
  },
  {
   "cell_type": "code",
   "execution_count": 55,
   "metadata": {},
   "outputs": [
    {
     "name": "stderr",
     "output_type": "stream",
     "text": [
      "[nltk_data] Downloading package stopwords to\n",
      "[nltk_data]     C:\\Users\\djona\\AppData\\Roaming\\nltk_data...\n",
      "[nltk_data]   Package stopwords is already up-to-date!\n"
     ]
    },
    {
     "data": {
      "text/plain": [
       "True"
      ]
     },
     "execution_count": 55,
     "metadata": {},
     "output_type": "execute_result"
    }
   ],
   "source": [
    "nltk.download('stopwords')"
   ]
  },
  {
   "cell_type": "code",
   "execution_count": 76,
   "metadata": {},
   "outputs": [],
   "source": [
    "stop_words = set(stopwords.words('english'))\n",
    "stop_words.add('covid')\n",
    "stop_words.add('vaccine')\n",
    "#tokenization\n",
    "#word_tokens = [word_tokenize(elements) for elements in normalize]\n",
    "\n",
    "# remove stop words and punctuation\n",
    "complete = [[w for w in words if not w in stop_words if w.isalnum()] for words in normalize]\n"
   ]
  },
  {
   "cell_type": "code",
   "execution_count": 77,
   "metadata": {},
   "outputs": [],
   "source": [
    "bigramy = [list(bigrams(words)) for words in complete]\n"
   ]
  },
  {
   "cell_type": "code",
   "execution_count": 78,
   "metadata": {},
   "outputs": [
    {
     "data": {
      "text/plain": [
       "[(('dose', 'dose'), 157),\n",
       " (('slots', '0'), 77),\n",
       " (('free', 'slots'), 66),\n",
       " (('paid', 'slots'), 66),\n",
       " (('slots', 'dose'), 55),\n",
       " (('0', 'paid'), 44),\n",
       " (('availability', 'pm'), 36),\n",
       " (('pm', 'free'), 36),\n",
       " (('fourth', 'shot'), 35),\n",
       " (('45', 'availability'), 33),\n",
       " (('side', 'effects'), 30),\n",
       " (('availability', 'free'), 30),\n",
       " (('shot', 'necessary'), 29),\n",
       " (('drug', 'regulators'), 27),\n",
       " (('regulators', 'bar'), 27),\n",
       " (('bar', 'billion'), 27),\n",
       " (('billion', 'people'), 27),\n",
       " (('dose', 'paid'), 22),\n",
       " (('nicki', 'minaj'), 21),\n",
       " (('health', 'dept'), 21)]"
      ]
     },
     "execution_count": 78,
     "metadata": {},
     "output_type": "execute_result"
    }
   ],
   "source": [
    "bigrame = list(itertools.chain(*bigramy))\n",
    "bigram_counter = collections.Counter(bigrame)\n",
    "bigram_counter.most_common(20)"
   ]
  },
  {
   "cell_type": "code",
   "execution_count": 85,
   "metadata": {},
   "outputs": [
    {
     "data": {
      "text/html": [
       "<div>\n",
       "<style scoped>\n",
       "    .dataframe tbody tr th:only-of-type {\n",
       "        vertical-align: middle;\n",
       "    }\n",
       "\n",
       "    .dataframe tbody tr th {\n",
       "        vertical-align: top;\n",
       "    }\n",
       "\n",
       "    .dataframe thead th {\n",
       "        text-align: right;\n",
       "    }\n",
       "</style>\n",
       "<table border=\"1\" class=\"dataframe\">\n",
       "  <thead>\n",
       "    <tr style=\"text-align: right;\">\n",
       "      <th></th>\n",
       "      <th>bigram</th>\n",
       "      <th>count</th>\n",
       "    </tr>\n",
       "  </thead>\n",
       "  <tbody>\n",
       "    <tr>\n",
       "      <th>0</th>\n",
       "      <td>(dose, dose)</td>\n",
       "      <td>157</td>\n",
       "    </tr>\n",
       "    <tr>\n",
       "      <th>1</th>\n",
       "      <td>(slots, 0)</td>\n",
       "      <td>77</td>\n",
       "    </tr>\n",
       "    <tr>\n",
       "      <th>2</th>\n",
       "      <td>(free, slots)</td>\n",
       "      <td>66</td>\n",
       "    </tr>\n",
       "    <tr>\n",
       "      <th>3</th>\n",
       "      <td>(paid, slots)</td>\n",
       "      <td>66</td>\n",
       "    </tr>\n",
       "    <tr>\n",
       "      <th>4</th>\n",
       "      <td>(slots, dose)</td>\n",
       "      <td>55</td>\n",
       "    </tr>\n",
       "    <tr>\n",
       "      <th>...</th>\n",
       "      <td>...</td>\n",
       "      <td>...</td>\n",
       "    </tr>\n",
       "    <tr>\n",
       "      <th>195</th>\n",
       "      <td>(mask, mandates)</td>\n",
       "      <td>6</td>\n",
       "    </tr>\n",
       "    <tr>\n",
       "      <th>196</th>\n",
       "      <td>(cards, longer)</td>\n",
       "      <td>6</td>\n",
       "    </tr>\n",
       "    <tr>\n",
       "      <th>197</th>\n",
       "      <td>(required, restaurants)</td>\n",
       "      <td>6</td>\n",
       "    </tr>\n",
       "    <tr>\n",
       "      <th>198</th>\n",
       "      <td>(restaurants, hang)</td>\n",
       "      <td>6</td>\n",
       "    </tr>\n",
       "    <tr>\n",
       "      <th>199</th>\n",
       "      <td>(hang, mask)</td>\n",
       "      <td>6</td>\n",
       "    </tr>\n",
       "  </tbody>\n",
       "</table>\n",
       "<p>200 rows × 2 columns</p>\n",
       "</div>"
      ],
      "text/plain": [
       "                      bigram  count\n",
       "0               (dose, dose)    157\n",
       "1                 (slots, 0)     77\n",
       "2              (free, slots)     66\n",
       "3              (paid, slots)     66\n",
       "4              (slots, dose)     55\n",
       "..                       ...    ...\n",
       "195         (mask, mandates)      6\n",
       "196          (cards, longer)      6\n",
       "197  (required, restaurants)      6\n",
       "198      (restaurants, hang)      6\n",
       "199             (hang, mask)      6\n",
       "\n",
       "[200 rows x 2 columns]"
      ]
     },
     "execution_count": 85,
     "metadata": {},
     "output_type": "execute_result"
    }
   ],
   "source": [
    "bigram_df = pd.DataFrame(bigram_counter.most_common(200), columns=['bigram','count'])\n",
    "bigram_df"
   ]
  },
  {
   "cell_type": "code",
   "execution_count": 86,
   "metadata": {},
   "outputs": [],
   "source": [
    "d = bigram_df.set_index('bigram').T.to_dict('records')"
   ]
  },
  {
   "cell_type": "code",
   "execution_count": 87,
   "metadata": {},
   "outputs": [],
   "source": [
    "G = nx.Graph()\n",
    "\n",
    "for k, v in d[0].items():\n",
    "    G.add_edge(k[0], k[1], weight=(v * 10))"
   ]
  },
  {
   "cell_type": "code",
   "execution_count": 88,
   "metadata": {},
   "outputs": [
    {
     "data": {
      "text/plain": [
       "219"
      ]
     },
     "execution_count": 88,
     "metadata": {},
     "output_type": "execute_result"
    }
   ],
   "source": [
    "G.number_of_nodes()"
   ]
  },
  {
   "cell_type": "code",
   "execution_count": 89,
   "metadata": {},
   "outputs": [
    {
     "data": {
      "text/html": [
       "\n",
       "        <iframe\n",
       "            width=\"500px\"\n",
       "            height=\"500px\"\n",
       "            src=\"graph.html\"\n",
       "            frameborder=\"0\"\n",
       "            allowfullscreen\n",
       "            \n",
       "        ></iframe>\n",
       "        "
      ],
      "text/plain": [
       "<IPython.lib.display.IFrame at 0x180eb443d30>"
      ]
     },
     "execution_count": 89,
     "metadata": {},
     "output_type": "execute_result"
    }
   ],
   "source": [
    "net = Network(notebook=True)\n",
    "net.from_nx(G)\n",
    "net.show(\"graph.html\")"
   ]
  },
  {
   "cell_type": "code",
   "execution_count": 83,
   "metadata": {},
   "outputs": [
    {
     "data": {
      "image/png": "[encoded data removed]",
      "text/plain": [
       "<Figure size 800x800 with 3 Axes>"
      ]
     },
     "metadata": {},
     "output_type": "display_data"
    }
   ],
   "source": [
    "degree_sequence = sorted((d for n, d in G.degree()), reverse=True)\n",
    "dmax = max(degree_sequence)\n",
    "\n",
    "centrality = nx.betweenness_centrality(G)\n",
    "\n",
    "clustering = nx.clustering(G)\n",
    "\n",
    "fig = plt.figure(\"Degree of a random graph\", figsize=(8, 8))\n",
    "# Create a gridspec for adding subplots of different sizes\n",
    "axgrid = fig.add_gridspec(5, 4)\n",
    "\n",
    "ax = fig.add_subplot(axgrid[0:3,:])\n",
    "ax.hist(clustering.values(), bins=100)\n",
    "ax.set_title(\"Clustering histogram\")\n",
    "ax.set_xlabel(\"Clustering Coef\")\n",
    "ax.set_ylabel(\"Counts\")\n",
    "\n",
    "\n",
    "ax1 = fig.add_subplot(axgrid[3:,:2])\n",
    "ax1.hist(centrality.values(), bins=100)\n",
    "ax1.set_title(\"Betweenness histogram\")\n",
    "ax1.set_xlabel(\"Betweenness\")\n",
    "ax1.set_ylabel(\"Counts\")\n",
    "\n",
    "ax2 = fig.add_subplot(axgrid[3:, 2:])\n",
    "ax2.bar(*np.unique(degree_sequence, return_counts=True))\n",
    "ax2.set_title(\"Degree histogram\")\n",
    "ax2.set_xlabel(\"Degree\")\n",
    "ax2.set_ylabel(\"# of Nodes\")\n",
    "\n",
    "fig.tight_layout()\n",
    "plt.show()"
   ]
  },
  {
   "cell_type": "code",
   "execution_count": 91,
   "metadata": {},
   "outputs": [
    {
     "name": "stderr",
     "output_type": "stream",
     "text": [
      "C:\\Users\\djona\\AppData\\Local\\Temp\\ipykernel_20448\\1281156272.py:6: FutureWarning: content is deprecated, use rawContent instead\n",
      "  tweets_list2.append([tweet.content]) # declare the attributes to be returned\n"
     ]
    }
   ],
   "source": [
    "tweets_list2 = []\n",
    "#scrape data and append tweets to list\n",
    "for i, tweet in enumerate(sntwitter.TwitterSearchScraper('Covid Vaccine since:2022-02-25 until:2022-04-01').get_items()): # declare a username\n",
    "  if i>2000: #number of tweets you want to scrape\n",
    "    break\n",
    "  tweets_list2.append([tweet.content]) # declare the attributes to be returned\n",
    "\n",
    "# creating a dataframe from the list\n",
    "tweets_df2 = pd.DataFrame(tweets_list2, columns=['Text'])"
   ]
  },
  {
   "cell_type": "code",
   "execution_count": 92,
   "metadata": {},
   "outputs": [],
   "source": [
    "file = open(\"tweets2.json\",'w')\n",
    "j = json.dumps(tweets_list2, default = str)\n",
    "file.write(j)\n",
    "file.close()"
   ]
  },
  {
   "cell_type": "code",
   "execution_count": null,
   "metadata": {},
   "outputs": [],
   "source": [
    "cleaned_text2 = [clean_text(elements) for elements in tweets_df2.Text]\n",
    "normalize2 = [tt.tokenize(elements.lower()) for elements in cleaned_text]"
   ]
  }
 ],
 "metadata": {
  "kernelspec": {
   "display_name": "Python 3.9.5 64-bit",
   "language": "python",
   "name": "python3"
  },
  "language_info": {
   "codemirror_mode": {
    "name": "ipython",
    "version": 3
   },
   "file_extension": ".py",
   "mimetype": "text/x-python",
   "name": "python",
   "nbconvert_exporter": "python",
   "pygments_lexer": "ipython3",
   "version": "3.9.5"
  },
  "orig_nbformat": 4,
  "vscode": {
   "interpreter": {
    "hash": "2cb316dc1cb7649520000078faeeab63ab4993f92669687fc181249e534c3ab9"
   }
  }
 },
 "nbformat": 4,
 "nbformat_minor": 2
}
