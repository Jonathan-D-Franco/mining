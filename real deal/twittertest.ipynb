{
 "cells": [
  {
   "cell_type": "code",
   "execution_count": 20,
   "metadata": {},
   "outputs": [
    {
     "name": "stderr",
     "output_type": "stream",
     "text": [
      "C:\\Users\\djona\\AppData\\Local\\Temp\\ipykernel_5524\\3620960423.py:24: FutureWarning: content is deprecated, use rawContent instead\n",
      "  tweets_list1.append([tweet.content]) # declare the attributes to be returned\n"
     ]
    }
   ],
   "source": [
    "import snscrape.modules.twitter as sntwitter\n",
    "import pandas as pd\n",
    "import seaborn as cb\n",
    "from pyvis.network import Network\n",
    "import json\n",
    "import numpy as np\n",
    "import nltk \n",
    "from nltk import bigrams\n",
    "from nltk.corpus import stopwords\n",
    "from nltk.tokenize import TweetTokenizer\n",
    "import re\n",
    "import networkx as nx\n",
    "import matplotlib.pyplot as plt\n",
    "import itertools\n",
    "import collections\n",
    "\n",
    "\n",
    "tweets_list1 = []\n",
    "\n",
    "#scrape data and append tweets to list\n",
    "for i, tweet in enumerate(sntwitter.TwitterSearchScraper('Covid Vaccine since:2021-12-10 until:2022-02-20').get_items()): # declare a username\n",
    "  if i>2000: #number of tweets you want to scrape\n",
    "    break\n",
    "  tweets_list1.append([tweet.content]) # declare the attributes to be returned\n",
    "\n",
    "# creating a dataframe from the list\n",
    "tweets_df1 = pd.DataFrame(tweets_list1, columns=['Text'])"
   ]
  },
  {
   "cell_type": "code",
   "execution_count": 21,
   "metadata": {},
   "outputs": [],
   "source": [
    "file = open(\"tweets1.json\",'w')\n",
    "j = json.dumps(tweets_list1, default = str)\n",
    "file.write(j)\n",
    "file.close()"
   ]
  },
  {
   "cell_type": "code",
   "execution_count": 22,
   "metadata": {},
   "outputs": [],
   "source": [
    "def clean_text(txt):\n",
    "    #url_pat = re.compile(r'https?//\\s+|www\\.\\S+')\n",
    "    cleaned = re.sub(r\"http\\S+\",\"\", txt)\n",
    "    return cleaned"
   ]
  },
  {
   "cell_type": "code",
   "execution_count": 23,
   "metadata": {},
   "outputs": [],
   "source": [
    "cleaned_text = [clean_text(elements) for elements in tweets_df1.Text]\n",
    "tt = TweetTokenizer()\n",
    "normalize = [tt.tokenize(elements.lower()) for elements in cleaned_text]"
   ]
  },
  {
   "cell_type": "code",
   "execution_count": 24,
   "metadata": {},
   "outputs": [
    {
     "name": "stderr",
     "output_type": "stream",
     "text": [
      "[nltk_data] Downloading package stopwords to\n",
      "[nltk_data]     C:\\Users\\djona\\AppData\\Roaming\\nltk_data...\n",
      "[nltk_data]   Package stopwords is already up-to-date!\n"
     ]
    },
    {
     "data": {
      "text/plain": [
       "True"
      ]
     },
     "execution_count": 24,
     "metadata": {},
     "output_type": "execute_result"
    }
   ],
   "source": [
    "nltk.download('stopwords')"
   ]
  },
  {
   "cell_type": "code",
   "execution_count": 25,
   "metadata": {},
   "outputs": [],
   "source": [
    "stop_words = set(stopwords.words('english'))\n",
    "stop_words.add('covid')\n",
    "stop_words.add('vaccine')\n",
    "#tokenization\n",
    "#word_tokens = [word_tokenize(elements) for elements in normalize]\n",
    "\n",
    "# remove stop words and punctuation\n",
    "complete = [[w for w in words if not w in stop_words if w.isalnum()] for words in normalize]\n"
   ]
  },
  {
   "cell_type": "code",
   "execution_count": 26,
   "metadata": {},
   "outputs": [
    {
     "data": {
      "text/plain": [
       "[(('dose', 'dose'), 157),\n",
       " (('slots', '0'), 77),\n",
       " (('free', 'slots'), 66),\n",
       " (('paid', 'slots'), 66),\n",
       " (('slots', 'dose'), 55),\n",
       " (('0', 'paid'), 44),\n",
       " (('availability', 'pm'), 36),\n",
       " (('pm', 'free'), 36),\n",
       " (('fourth', 'shot'), 35),\n",
       " (('45', 'availability'), 33),\n",
       " (('side', 'effects'), 30),\n",
       " (('availability', 'free'), 30),\n",
       " (('shot', 'necessary'), 29),\n",
       " (('drug', 'regulators'), 27),\n",
       " (('regulators', 'bar'), 27),\n",
       " (('bar', 'billion'), 27),\n",
       " (('billion', 'people'), 27),\n",
       " (('nicki', 'minaj'), 22),\n",
       " (('health', 'dept'), 22),\n",
       " (('dose', 'paid'), 22)]"
      ]
     },
     "execution_count": 26,
     "metadata": {},
     "output_type": "execute_result"
    }
   ],
   "source": [
    "bigram1 = [list(bigrams(words)) for words in complete]\n",
    "bigram1c = list(itertools.chain(*bigram1))\n",
    "bigram_counter1 = collections.Counter(bigram1c)\n",
    "bigram_counter1.most_common(20)"
   ]
  },
  {
   "cell_type": "code",
   "execution_count": 27,
   "metadata": {},
   "outputs": [
    {
     "data": {
      "text/html": [
       "<div>\n",
       "<style scoped>\n",
       "    .dataframe tbody tr th:only-of-type {\n",
       "        vertical-align: middle;\n",
       "    }\n",
       "\n",
       "    .dataframe tbody tr th {\n",
       "        vertical-align: top;\n",
       "    }\n",
       "\n",
       "    .dataframe thead th {\n",
       "        text-align: right;\n",
       "    }\n",
       "</style>\n",
       "<table border=\"1\" class=\"dataframe\">\n",
       "  <thead>\n",
       "    <tr style=\"text-align: right;\">\n",
       "      <th></th>\n",
       "      <th>bigram</th>\n",
       "      <th>count</th>\n",
       "    </tr>\n",
       "  </thead>\n",
       "  <tbody>\n",
       "    <tr>\n",
       "      <th>0</th>\n",
       "      <td>(dose, dose)</td>\n",
       "      <td>157</td>\n",
       "    </tr>\n",
       "    <tr>\n",
       "      <th>1</th>\n",
       "      <td>(slots, 0)</td>\n",
       "      <td>77</td>\n",
       "    </tr>\n",
       "    <tr>\n",
       "      <th>2</th>\n",
       "      <td>(free, slots)</td>\n",
       "      <td>66</td>\n",
       "    </tr>\n",
       "    <tr>\n",
       "      <th>3</th>\n",
       "      <td>(paid, slots)</td>\n",
       "      <td>66</td>\n",
       "    </tr>\n",
       "    <tr>\n",
       "      <th>4</th>\n",
       "      <td>(slots, dose)</td>\n",
       "      <td>55</td>\n",
       "    </tr>\n",
       "    <tr>\n",
       "      <th>...</th>\n",
       "      <td>...</td>\n",
       "      <td>...</td>\n",
       "    </tr>\n",
       "    <tr>\n",
       "      <th>245</th>\n",
       "      <td>(arizona, secretary)</td>\n",
       "      <td>5</td>\n",
       "    </tr>\n",
       "    <tr>\n",
       "      <th>246</th>\n",
       "      <td>(secretary, state)</td>\n",
       "      <td>5</td>\n",
       "    </tr>\n",
       "    <tr>\n",
       "      <th>247</th>\n",
       "      <td>(public, health)</td>\n",
       "      <td>5</td>\n",
       "    </tr>\n",
       "    <tr>\n",
       "      <th>248</th>\n",
       "      <td>(one, dose)</td>\n",
       "      <td>5</td>\n",
       "    </tr>\n",
       "    <tr>\n",
       "      <th>249</th>\n",
       "      <td>(feds, say)</td>\n",
       "      <td>5</td>\n",
       "    </tr>\n",
       "  </tbody>\n",
       "</table>\n",
       "<p>250 rows × 2 columns</p>\n",
       "</div>"
      ],
      "text/plain": [
       "                   bigram  count\n",
       "0            (dose, dose)    157\n",
       "1              (slots, 0)     77\n",
       "2           (free, slots)     66\n",
       "3           (paid, slots)     66\n",
       "4           (slots, dose)     55\n",
       "..                    ...    ...\n",
       "245  (arizona, secretary)      5\n",
       "246    (secretary, state)      5\n",
       "247      (public, health)      5\n",
       "248           (one, dose)      5\n",
       "249           (feds, say)      5\n",
       "\n",
       "[250 rows x 2 columns]"
      ]
     },
     "execution_count": 27,
     "metadata": {},
     "output_type": "execute_result"
    }
   ],
   "source": [
    "bigram_df = pd.DataFrame(bigram_counter1.most_common(250), columns=['bigram','count'])\n",
    "bigram_df"
   ]
  },
  {
   "cell_type": "code",
   "execution_count": 28,
   "metadata": {},
   "outputs": [],
   "source": [
    "d = bigram_df.set_index('bigram').T.to_dict('records')\n",
    "G = nx.Graph()\n",
    "\n",
    "for k, v in d[0].items():\n",
    "    G.add_edge(k[0], k[1], weight=(v * 10))"
   ]
  },
  {
   "cell_type": "code",
   "execution_count": 29,
   "metadata": {},
   "outputs": [
    {
     "data": {
      "text/plain": [
       "264"
      ]
     },
     "execution_count": 29,
     "metadata": {},
     "output_type": "execute_result"
    }
   ],
   "source": [
    "G.number_of_nodes()"
   ]
  },
  {
   "cell_type": "code",
   "execution_count": 30,
   "metadata": {},
   "outputs": [
    {
     "data": {
      "text/html": [
       "\n",
       "        <iframe\n",
       "            width=\"500px\"\n",
       "            height=\"500px\"\n",
       "            src=\"graph.html\"\n",
       "            frameborder=\"0\"\n",
       "            allowfullscreen\n",
       "            \n",
       "        ></iframe>\n",
       "        "
      ],
      "text/plain": [
       "<IPython.lib.display.IFrame at 0x208f4ee4100>"
      ]
     },
     "execution_count": 30,
     "metadata": {},
     "output_type": "execute_result"
    }
   ],
   "source": [
    "net = Network(height=\"800px\", width=\"100%\", bgcolor=\"#222222\", font_color=\"white\", notebook=True, directed=False)\n",
    "net.from_nx(G)\n",
    "net.show_buttons(filter_=True)\n",
    "net.show(\"graph.html\")"
   ]
  },
  {
   "cell_type": "code",
   "execution_count": 54,
   "metadata": {},
   "outputs": [
    {
     "data": {
      "image/png": "[encoded data removed]",
      "text/plain": [
       "<Figure size 800x800 with 3 Axes>"
      ]
     },
     "metadata": {},
     "output_type": "display_data"
    }
   ],
   "source": [
    "degree_sequence = sorted((d for n, d in G.degree()), reverse=True)\n",
    "dmax = max(degree_sequence)\n",
    "\n",
    "centrality = nx.betweenness_centrality(G)\n",
    "\n",
    "closness = nx.closeness_centrality(G)\n",
    "\n",
    "fig = plt.figure(\"Degree of a random graph\", figsize=(8, 8))\n",
    "# Create a gridspec for adding subplots of different sizes\n",
    "axgrid = fig.add_gridspec(5, 4)\n",
    "\n",
    "ax = fig.add_subplot(axgrid[0:3,:])\n",
    "ax.hist(closness.values(), bins=100)\n",
    "ax.set_title(\"Closeness histogram\")\n",
    "ax.set_xlabel(\"Closeness Centrality\")\n",
    "ax.set_ylabel(\"Counts\")\n",
    "\n",
    "\n",
    "ax1 = fig.add_subplot(axgrid[3:,:2])\n",
    "ax1.hist(centrality.values(), bins=100)\n",
    "ax1.set_title(\"Betweenness histogram\")\n",
    "ax1.set_xlabel(\"Betweenness\")\n",
    "ax1.set_ylabel(\"Counts\")\n",
    "\n",
    "ax2 = fig.add_subplot(axgrid[3:, 2:])\n",
    "ax2.bar(*np.unique(degree_sequence, return_counts=True))\n",
    "ax2.set_title(\"Degree histogram\")\n",
    "ax2.set_xlabel(\"Degree\")\n",
    "ax2.set_ylabel(\"# of Nodes\")\n",
    "\n",
    "fig.tight_layout()\n",
    "plt.show()"
   ]
  },
  {
   "cell_type": "code",
   "execution_count": 32,
   "metadata": {},
   "outputs": [
    {
     "name": "stderr",
     "output_type": "stream",
     "text": [
      "C:\\Users\\djona\\AppData\\Local\\Temp\\ipykernel_5524\\1281156272.py:6: FutureWarning: content is deprecated, use rawContent instead\n",
      "  tweets_list2.append([tweet.content]) # declare the attributes to be returned\n"
     ]
    }
   ],
   "source": [
    "tweets_list2 = []\n",
    "#scrape data and append tweets to list\n",
    "for i, tweet in enumerate(sntwitter.TwitterSearchScraper('Covid Vaccine since:2022-02-25 until:2022-04-01').get_items()): # declare a username\n",
    "  if i>2000: #number of tweets you want to scrape\n",
    "    break\n",
    "  tweets_list2.append([tweet.content]) # declare the attributes to be returned\n",
    "\n",
    "# creating a dataframe from the list\n",
    "tweets_df2 = pd.DataFrame(tweets_list2, columns=['Text'])"
   ]
  },
  {
   "cell_type": "code",
   "execution_count": 33,
   "metadata": {},
   "outputs": [],
   "source": [
    "file = open(\"tweets2.json\",'w')\n",
    "j = json.dumps(tweets_list2, default = str)\n",
    "file.write(j)\n",
    "file.close()"
   ]
  },
  {
   "cell_type": "code",
   "execution_count": 34,
   "metadata": {},
   "outputs": [],
   "source": [
    "cleaned_text2 = [clean_text(elements) for elements in tweets_df2.Text]\n",
    "normalize2 = [tt.tokenize(elements.lower()) for elements in cleaned_text2]\n",
    "# remove stop words and punctuation\n",
    "complete2 = [[w for w in words if not w in stop_words if w.isalnum()] for words in normalize2]"
   ]
  },
  {
   "cell_type": "code",
   "execution_count": 35,
   "metadata": {},
   "outputs": [
    {
     "data": {
      "text/plain": [
       "[(('biden', 'warns'), 58),\n",
       " (('4th', 'dose'), 53),\n",
       " (('warns', 'u'), 53),\n",
       " (('enough', 'shots'), 53),\n",
       " (('second', 'booster'), 52),\n",
       " (('u', 'enough'), 50),\n",
       " (('side', 'effects'), 49),\n",
       " (('novavax', 'asks'), 45),\n",
       " (('asks', 'eu'), 45),\n",
       " (('eu', 'regulator'), 45),\n",
       " (('regulator', 'clear'), 44),\n",
       " (('congress', 'fails'), 44),\n",
       " (('clear', 'teens'), 42),\n",
       " (('fall', 'congress'), 41),\n",
       " (('shots', 'fall'), 39),\n",
       " (('fails', 'pass'), 39),\n",
       " (('fourth', 'dose'), 37),\n",
       " (('pfizer', 'moderna'), 37),\n",
       " (('pass', 'funding'), 36),\n",
       " (('public', 'health'), 35)]"
      ]
     },
     "execution_count": 35,
     "metadata": {},
     "output_type": "execute_result"
    }
   ],
   "source": [
    "bigram2 = [list(bigrams(words)) for words in complete2]\n",
    "bigram2c = list(itertools.chain(*bigram2))\n",
    "bigram_counter2 = collections.Counter(bigram2c)\n",
    "bigram_counter2.most_common(20)"
   ]
  },
  {
   "cell_type": "code",
   "execution_count": 36,
   "metadata": {},
   "outputs": [
    {
     "data": {
      "text/html": [
       "<div>\n",
       "<style scoped>\n",
       "    .dataframe tbody tr th:only-of-type {\n",
       "        vertical-align: middle;\n",
       "    }\n",
       "\n",
       "    .dataframe tbody tr th {\n",
       "        vertical-align: top;\n",
       "    }\n",
       "\n",
       "    .dataframe thead th {\n",
       "        text-align: right;\n",
       "    }\n",
       "</style>\n",
       "<table border=\"1\" class=\"dataframe\">\n",
       "  <thead>\n",
       "    <tr style=\"text-align: right;\">\n",
       "      <th></th>\n",
       "      <th>bigram</th>\n",
       "      <th>count</th>\n",
       "    </tr>\n",
       "  </thead>\n",
       "  <tbody>\n",
       "    <tr>\n",
       "      <th>0</th>\n",
       "      <td>(biden, warns)</td>\n",
       "      <td>58</td>\n",
       "    </tr>\n",
       "    <tr>\n",
       "      <th>1</th>\n",
       "      <td>(4th, dose)</td>\n",
       "      <td>53</td>\n",
       "    </tr>\n",
       "    <tr>\n",
       "      <th>2</th>\n",
       "      <td>(warns, u)</td>\n",
       "      <td>53</td>\n",
       "    </tr>\n",
       "    <tr>\n",
       "      <th>3</th>\n",
       "      <td>(enough, shots)</td>\n",
       "      <td>53</td>\n",
       "    </tr>\n",
       "    <tr>\n",
       "      <th>4</th>\n",
       "      <td>(second, booster)</td>\n",
       "      <td>52</td>\n",
       "    </tr>\n",
       "    <tr>\n",
       "      <th>...</th>\n",
       "      <td>...</td>\n",
       "      <td>...</td>\n",
       "    </tr>\n",
       "    <tr>\n",
       "      <th>245</th>\n",
       "      <td>(hospital, stays)</td>\n",
       "      <td>5</td>\n",
       "    </tr>\n",
       "    <tr>\n",
       "      <th>246</th>\n",
       "      <td>(stays, teens)</td>\n",
       "      <td>5</td>\n",
       "    </tr>\n",
       "    <tr>\n",
       "      <th>247</th>\n",
       "      <td>(teens, 68)</td>\n",
       "      <td>5</td>\n",
       "    </tr>\n",
       "    <tr>\n",
       "      <th>248</th>\n",
       "      <td>(68, kids)</td>\n",
       "      <td>5</td>\n",
       "    </tr>\n",
       "    <tr>\n",
       "      <th>249</th>\n",
       "      <td>(even, lifted)</td>\n",
       "      <td>5</td>\n",
       "    </tr>\n",
       "  </tbody>\n",
       "</table>\n",
       "<p>250 rows × 2 columns</p>\n",
       "</div>"
      ],
      "text/plain": [
       "                bigram  count\n",
       "0       (biden, warns)     58\n",
       "1          (4th, dose)     53\n",
       "2           (warns, u)     53\n",
       "3      (enough, shots)     53\n",
       "4    (second, booster)     52\n",
       "..                 ...    ...\n",
       "245  (hospital, stays)      5\n",
       "246     (stays, teens)      5\n",
       "247        (teens, 68)      5\n",
       "248         (68, kids)      5\n",
       "249     (even, lifted)      5\n",
       "\n",
       "[250 rows x 2 columns]"
      ]
     },
     "execution_count": 36,
     "metadata": {},
     "output_type": "execute_result"
    }
   ],
   "source": [
    "bigram_df2 = pd.DataFrame(bigram_counter2.most_common(250), columns=['bigram','count'])\n",
    "bigram_df2"
   ]
  },
  {
   "cell_type": "code",
   "execution_count": 37,
   "metadata": {},
   "outputs": [],
   "source": [
    "d2 = bigram_df2.set_index('bigram').T.to_dict('records')\n",
    "G2 = nx.Graph()\n",
    "\n",
    "for k, v in d2[0].items():\n",
    "    G2.add_edge(k[0], k[1], weight=(v * 10))"
   ]
  },
  {
   "cell_type": "code",
   "execution_count": 38,
   "metadata": {},
   "outputs": [
    {
     "data": {
      "text/plain": [
       "246"
      ]
     },
     "execution_count": 38,
     "metadata": {},
     "output_type": "execute_result"
    }
   ],
   "source": [
    "G2.number_of_nodes()"
   ]
  },
  {
   "cell_type": "code",
   "execution_count": 53,
   "metadata": {},
   "outputs": [
    {
     "data": {
      "text/html": [
       "\n",
       "        <iframe\n",
       "            width=\"100%\"\n",
       "            height=\"800px\"\n",
       "            src=\"graph2.html\"\n",
       "            frameborder=\"0\"\n",
       "            allowfullscreen\n",
       "            \n",
       "        ></iframe>\n",
       "        "
      ],
      "text/plain": [
       "<IPython.lib.display.IFrame at 0x208fafcb790>"
      ]
     },
     "execution_count": 53,
     "metadata": {},
     "output_type": "execute_result"
    }
   ],
   "source": [
    "#net2 = Network(notebook=True)\n",
    "net2 = Network(height=\"800px\", width=\"100%\", bgcolor=\"#222222\", font_color=\"white\", notebook=True, directed=False)\n",
    "net2.from_nx(G2)\n",
    "net2.show_buttons(filter_=True)\n",
    "net2.show(\"graph2.html\")"
   ]
  },
  {
   "cell_type": "code",
   "execution_count": 55,
   "metadata": {},
   "outputs": [
    {
     "data": {
      "image/png": "[encoded data removed]",
      "text/plain": [
       "<Figure size 800x800 with 3 Axes>"
      ]
     },
     "metadata": {},
     "output_type": "display_data"
    }
   ],
   "source": [
    "degree_sequence2 = sorted((d for n, d in G2.degree()), reverse=True)\n",
    "dmax2 = max(degree_sequence)\n",
    "\n",
    "centrality2 = nx.betweenness_centrality(G2)\n",
    "\n",
    "closeness2 = nx.closeness_centrality(G2)\n",
    "\n",
    "fig = plt.figure(\"Degree of a random graph\", figsize=(8, 8))\n",
    "# Create a gridspec for adding subplots of different sizes\n",
    "axgrid = fig.add_gridspec(5, 4)\n",
    "\n",
    "ax = fig.add_subplot(axgrid[0:3,:])\n",
    "ax.hist(closeness2.values(), bins=100)\n",
    "ax.set_title(\"Clustering histogram\")\n",
    "ax.set_xlabel(\"Clustering Coef\")\n",
    "ax.set_ylabel(\"Counts\")\n",
    "\n",
    "\n",
    "ax1 = fig.add_subplot(axgrid[3:,:2])\n",
    "ax1.hist(centrality2.values(), bins=100)\n",
    "ax1.set_title(\"Betweenness histogram\")\n",
    "ax1.set_xlabel(\"Betweenness\")\n",
    "ax1.set_ylabel(\"Counts\")\n",
    "\n",
    "ax2 = fig.add_subplot(axgrid[3:, 2:])\n",
    "ax2.bar(*np.unique(degree_sequence2, return_counts=True))\n",
    "ax2.set_title(\"Degree histogram\")\n",
    "ax2.set_xlabel(\"Degree\")\n",
    "ax2.set_ylabel(\"# of Nodes\")\n",
    "\n",
    "fig.tight_layout()\n",
    "plt.show()"
   ]
  }
 ],
 "metadata": {
  "kernelspec": {
   "display_name": "Python 3.9.5 64-bit",
   "language": "python",
   "name": "python3"
  },
  "language_info": {
   "codemirror_mode": {
    "name": "ipython",
    "version": 3
   },
   "file_extension": ".py",
   "mimetype": "text/x-python",
   "name": "python",
   "nbconvert_exporter": "python",
   "pygments_lexer": "ipython3",
   "version": "3.9.5"
  },
  "orig_nbformat": 4,
  "vscode": {
   "interpreter": {
    "hash": "2cb316dc1cb7649520000078faeeab63ab4993f92669687fc181249e534c3ab9"
   }
  }
 },
 "nbformat": 4,
 "nbformat_minor": 2
}
