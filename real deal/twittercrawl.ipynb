{
 "cells": [
  {
   "cell_type": "code",
   "execution_count": 2,
   "metadata": {},
   "outputs": [],
   "source": [
    "import snscrape.modules.twitter as sntwitter\n",
    "import pandas as pd\n",
    "import seaborn as cb\n",
    "from pyvis.network import Network\n",
    "import json\n",
    "import numpy as np\n",
    "import nltk \n",
    "from nltk import bigrams\n",
    "from nltk.corpus import stopwords\n",
    "from nltk.tokenize import TweetTokenizer\n",
    "import re\n",
    "import networkx as nx\n",
    "import matplotlib.pyplot as plt\n",
    "import itertools\n",
    "import collections"
   ]
  },
  {
   "cell_type": "code",
   "execution_count": 3,
   "metadata": {},
   "outputs": [
    {
     "name": "stderr",
     "output_type": "stream",
     "text": [
      "C:\\Users\\djona\\AppData\\Local\\Temp\\ipykernel_9548\\3258167723.py:7: FutureWarning: content is deprecated, use rawContent instead\n",
      "  tweets_spike.append([tweet.content]) # declare the attributes to be returned\n"
     ]
    }
   ],
   "source": [
    "tweets_spike = []\n",
    "\n",
    "#scrape data and append tweets to list\n",
    "for i, tweet in enumerate(sntwitter.TwitterSearchScraper('Covid Vaccine since:2021-12-10 until:2022-02-20').get_items()): # declare a username\n",
    "  if i>2000: #number of tweets you want to scrape\n",
    "    break\n",
    "  tweets_spike.append([tweet.content]) # declare the attributes to be returned\n",
    "\n",
    "# creating a dataframe from the list\n",
    "tweets_spike_df = pd.DataFrame(tweets_spike, columns=['Text'])"
   ]
  },
  {
   "cell_type": "code",
   "execution_count": 4,
   "metadata": {},
   "outputs": [],
   "source": [
    "file = open(\"tweet_spike.json\",'w')\n",
    "j = json.dumps(tweets_spike, default = str)\n",
    "file.write(j)\n",
    "file.close()"
   ]
  },
  {
   "cell_type": "code",
   "execution_count": 5,
   "metadata": {},
   "outputs": [],
   "source": [
    "def clean_text(txt):\n",
    "    cleaned = re.sub(r\"http\\S+\",\"\", txt)\n",
    "    return cleaned"
   ]
  },
  {
   "cell_type": "code",
   "execution_count": 6,
   "metadata": {},
   "outputs": [],
   "source": [
    "cleaned_text = [clean_text(elements) for elements in tweets_spike_df.Text]\n",
    "tt = TweetTokenizer()\n",
    "normalize = [tt.tokenize(elements.lower()) for elements in cleaned_text]"
   ]
  },
  {
   "cell_type": "code",
   "execution_count": 7,
   "metadata": {},
   "outputs": [
    {
     "name": "stderr",
     "output_type": "stream",
     "text": [
      "[nltk_data] Downloading package stopwords to\n",
      "[nltk_data]     C:\\Users\\djona\\AppData\\Roaming\\nltk_data...\n",
      "[nltk_data]   Package stopwords is already up-to-date!\n"
     ]
    },
    {
     "data": {
      "text/plain": [
       "True"
      ]
     },
     "execution_count": 7,
     "metadata": {},
     "output_type": "execute_result"
    }
   ],
   "source": [
    "nltk.download('stopwords')"
   ]
  },
  {
   "cell_type": "code",
   "execution_count": 8,
   "metadata": {},
   "outputs": [],
   "source": [
    "stop_words = set(stopwords.words('english'))\n",
    "stop_words.add('covid')\n",
    "stop_words.add('vaccine')\n",
    "\n",
    "# remove stop words and punctuation\n",
    "complete = [[w for w in words if not w in stop_words if w.isalnum()] for words in normalize]\n"
   ]
  },
  {
   "cell_type": "code",
   "execution_count": 9,
   "metadata": {},
   "outputs": [
    {
     "data": {
      "text/plain": [
       "[(('dose', 'dose'), 157),\n",
       " (('slots', '0'), 77),\n",
       " (('free', 'slots'), 66),\n",
       " (('paid', 'slots'), 66),\n",
       " (('slots', 'dose'), 55),\n",
       " (('0', 'paid'), 44),\n",
       " (('fourth', 'shot'), 36),\n",
       " (('availability', 'pm'), 36),\n",
       " (('pm', 'free'), 36),\n",
       " (('45', 'availability'), 33),\n",
       " (('side', 'effects'), 30),\n",
       " (('shot', 'necessary'), 30),\n",
       " (('availability', 'free'), 30),\n",
       " (('drug', 'regulators'), 27),\n",
       " (('regulators', 'bar'), 27),\n",
       " (('bar', 'billion'), 27),\n",
       " (('billion', 'people'), 27),\n",
       " (('dose', 'paid'), 22),\n",
       " (('nicki', 'minaj'), 21),\n",
       " (('health', 'dept'), 21)]"
      ]
     },
     "execution_count": 9,
     "metadata": {},
     "output_type": "execute_result"
    }
   ],
   "source": [
    "bigram1 = [list(bigrams(words)) for words in complete]\n",
    "bigram1c = list(itertools.chain(*bigram1))\n",
    "bigram_counter1 = collections.Counter(bigram1c)\n",
    "bigram_counter1.most_common(20)"
   ]
  },
  {
   "cell_type": "code",
   "execution_count": 10,
   "metadata": {},
   "outputs": [
    {
     "data": {
      "text/html": [
       "<div>\n",
       "<style scoped>\n",
       "    .dataframe tbody tr th:only-of-type {\n",
       "        vertical-align: middle;\n",
       "    }\n",
       "\n",
       "    .dataframe tbody tr th {\n",
       "        vertical-align: top;\n",
       "    }\n",
       "\n",
       "    .dataframe thead th {\n",
       "        text-align: right;\n",
       "    }\n",
       "</style>\n",
       "<table border=\"1\" class=\"dataframe\">\n",
       "  <thead>\n",
       "    <tr style=\"text-align: right;\">\n",
       "      <th></th>\n",
       "      <th>bigram</th>\n",
       "      <th>count</th>\n",
       "    </tr>\n",
       "  </thead>\n",
       "  <tbody>\n",
       "    <tr>\n",
       "      <th>0</th>\n",
       "      <td>(dose, dose)</td>\n",
       "      <td>157</td>\n",
       "    </tr>\n",
       "    <tr>\n",
       "      <th>1</th>\n",
       "      <td>(slots, 0)</td>\n",
       "      <td>77</td>\n",
       "    </tr>\n",
       "    <tr>\n",
       "      <th>2</th>\n",
       "      <td>(free, slots)</td>\n",
       "      <td>66</td>\n",
       "    </tr>\n",
       "    <tr>\n",
       "      <th>3</th>\n",
       "      <td>(paid, slots)</td>\n",
       "      <td>66</td>\n",
       "    </tr>\n",
       "    <tr>\n",
       "      <th>4</th>\n",
       "      <td>(slots, dose)</td>\n",
       "      <td>55</td>\n",
       "    </tr>\n",
       "    <tr>\n",
       "      <th>...</th>\n",
       "      <td>...</td>\n",
       "      <td>...</td>\n",
       "    </tr>\n",
       "    <tr>\n",
       "      <th>245</th>\n",
       "      <td>(arizona, secretary)</td>\n",
       "      <td>5</td>\n",
       "    </tr>\n",
       "    <tr>\n",
       "      <th>246</th>\n",
       "      <td>(secretary, state)</td>\n",
       "      <td>5</td>\n",
       "    </tr>\n",
       "    <tr>\n",
       "      <th>247</th>\n",
       "      <td>(public, health)</td>\n",
       "      <td>5</td>\n",
       "    </tr>\n",
       "    <tr>\n",
       "      <th>248</th>\n",
       "      <td>(one, dose)</td>\n",
       "      <td>5</td>\n",
       "    </tr>\n",
       "    <tr>\n",
       "      <th>249</th>\n",
       "      <td>(feds, say)</td>\n",
       "      <td>5</td>\n",
       "    </tr>\n",
       "  </tbody>\n",
       "</table>\n",
       "<p>250 rows × 2 columns</p>\n",
       "</div>"
      ],
      "text/plain": [
       "                   bigram  count\n",
       "0            (dose, dose)    157\n",
       "1              (slots, 0)     77\n",
       "2           (free, slots)     66\n",
       "3           (paid, slots)     66\n",
       "4           (slots, dose)     55\n",
       "..                    ...    ...\n",
       "245  (arizona, secretary)      5\n",
       "246    (secretary, state)      5\n",
       "247      (public, health)      5\n",
       "248           (one, dose)      5\n",
       "249           (feds, say)      5\n",
       "\n",
       "[250 rows x 2 columns]"
      ]
     },
     "execution_count": 10,
     "metadata": {},
     "output_type": "execute_result"
    }
   ],
   "source": [
    "bigram_spike_df = pd.DataFrame(bigram_counter1.most_common(250), columns=['bigram','count'])\n",
    "bigram_spike_df"
   ]
  },
  {
   "cell_type": "code",
   "execution_count": 11,
   "metadata": {},
   "outputs": [],
   "source": [
    "d = bigram_spike_df.set_index('bigram').T.to_dict('records')\n",
    "G_spike = nx.Graph()\n",
    "\n",
    "for k, v in d[0].items():\n",
    "    G_spike.add_edge(k[0], k[1], weight=(v * 10))"
   ]
  },
  {
   "cell_type": "code",
   "execution_count": 12,
   "metadata": {},
   "outputs": [
    {
     "data": {
      "text/plain": [
       "264"
      ]
     },
     "execution_count": 12,
     "metadata": {},
     "output_type": "execute_result"
    }
   ],
   "source": [
    "G_spike.number_of_nodes()"
   ]
  },
  {
   "cell_type": "code",
   "execution_count": 13,
   "metadata": {},
   "outputs": [
    {
     "data": {
      "text/html": [
       "\n",
       "        <iframe\n",
       "            width=\"100%\"\n",
       "            height=\"800px\"\n",
       "            src=\"graph.html\"\n",
       "            frameborder=\"0\"\n",
       "            allowfullscreen\n",
       "            \n",
       "        ></iframe>\n",
       "        "
      ],
      "text/plain": [
       "<IPython.lib.display.IFrame at 0x1c1f20d3730>"
      ]
     },
     "execution_count": 13,
     "metadata": {},
     "output_type": "execute_result"
    }
   ],
   "source": [
    "net_spike = Network(height=\"800px\", width=\"100%\", bgcolor=\"#222222\", font_color=\"white\", notebook=True, directed=False)\n",
    "net_spike.from_nx(G_spike)\n",
    "net_spike.show_buttons(filter_=True)\n",
    "net_spike.show(\"graph.html\")"
   ]
  },
  {
   "cell_type": "code",
   "execution_count": 14,
   "metadata": {},
   "outputs": [
    {
     "data": {
      "image/png": "[encoded data removed]",
      "text/plain": [
       "<Figure size 800x800 with 3 Axes>"
      ]
     },
     "metadata": {},
     "output_type": "display_data"
    }
   ],
   "source": [
    "degree_sequence = sorted((d for n, d in G_spike.degree()), reverse=True)\n",
    "dmax = max(degree_sequence)\n",
    "\n",
    "centrality = nx.betweenness_centrality(G_spike)\n",
    "\n",
    "closness = nx.closeness_centrality(G_spike)\n",
    "\n",
    "fig = plt.figure(\"Degree of a random graph\", figsize=(8, 8))\n",
    "# Create a gridspec for adding subplots of different sizes\n",
    "axgrid = fig.add_gridspec(5, 4)\n",
    "\n",
    "ax = fig.add_subplot(axgrid[0:3,:])\n",
    "ax.hist(closness.values(), bins=100)\n",
    "ax.set_title(\"Spike Closeness histogram\")\n",
    "ax.set_xlabel(\"Closeness Centrality\")\n",
    "ax.set_ylabel(\"# of Nodes\")\n",
    "\n",
    "\n",
    "ax1 = fig.add_subplot(axgrid[3:,:2])\n",
    "ax1.hist(centrality.values(), bins=100)\n",
    "ax1.set_title(\"Spike Betweenness histogram\")\n",
    "ax1.set_xlabel(\"Betweenness\")\n",
    "ax1.set_ylabel(\"# of Nodes\")\n",
    "\n",
    "ax2 = fig.add_subplot(axgrid[3:, 2:])\n",
    "ax2.bar(*np.unique(degree_sequence, return_counts=True))\n",
    "ax2.set_title(\"Spike Degree histogram\")\n",
    "ax2.set_xlabel(\"Degree\")\n",
    "ax2.set_ylabel(\"# of Nodes\")\n",
    "\n",
    "fig.tight_layout()\n",
    "plt.show()"
   ]
  },
  {
   "cell_type": "code",
   "execution_count": 15,
   "metadata": {},
   "outputs": [
    {
     "name": "stderr",
     "output_type": "stream",
     "text": [
      "C:\\Users\\djona\\AppData\\Local\\Temp\\ipykernel_9548\\584515612.py:6: FutureWarning: content is deprecated, use rawContent instead\n",
      "  tweets_dip.append([tweet.content]) # declare the attributes to be returned\n"
     ]
    }
   ],
   "source": [
    "tweets_dip = []\n",
    "#scrape data and append tweets to list\n",
    "for i, tweet in enumerate(sntwitter.TwitterSearchScraper('Covid Vaccine since:2022-02-25 until:2022-04-01').get_items()): # declare a username\n",
    "  if i>2000: #number of tweets you want to scrape\n",
    "    break\n",
    "  tweets_dip.append([tweet.content]) # declare the attributes to be returned\n",
    "\n",
    "# creating a dataframe from the list\n",
    "tweets_dip_df = pd.DataFrame(tweets_dip, columns=['Text'])"
   ]
  },
  {
   "cell_type": "code",
   "execution_count": 16,
   "metadata": {},
   "outputs": [],
   "source": [
    "file = open(\"tweets_dip.json\",'w')\n",
    "j = json.dumps(tweets_dip, default = str)\n",
    "file.write(j)\n",
    "file.close()"
   ]
  },
  {
   "cell_type": "code",
   "execution_count": 17,
   "metadata": {},
   "outputs": [],
   "source": [
    "cleaned_text2 = [clean_text(elements) for elements in tweets_dip_df.Text]\n",
    "normalize2 = [tt.tokenize(elements.lower()) for elements in cleaned_text2]\n",
    "# remove stop words and punctuation\n",
    "complete2 = [[w for w in words if not w in stop_words if w.isalnum()] for words in normalize2]"
   ]
  },
  {
   "cell_type": "code",
   "execution_count": 18,
   "metadata": {},
   "outputs": [
    {
     "data": {
      "text/plain": [
       "[(('biden', 'warns'), 59),\n",
       " (('warns', 'u'), 54),\n",
       " (('enough', 'shots'), 54),\n",
       " (('4th', 'dose'), 53),\n",
       " (('second', 'booster'), 52),\n",
       " (('u', 'enough'), 51),\n",
       " (('side', 'effects'), 48),\n",
       " (('novavax', 'asks'), 45),\n",
       " (('asks', 'eu'), 45),\n",
       " (('eu', 'regulator'), 45),\n",
       " (('regulator', 'clear'), 44),\n",
       " (('congress', 'fails'), 44),\n",
       " (('clear', 'teens'), 42),\n",
       " (('fall', 'congress'), 41),\n",
       " (('shots', 'fall'), 39),\n",
       " (('fails', 'pass'), 39),\n",
       " (('fourth', 'dose'), 37),\n",
       " (('pfizer', 'moderna'), 36),\n",
       " (('pass', 'funding'), 36),\n",
       " (('public', 'health'), 35)]"
      ]
     },
     "execution_count": 18,
     "metadata": {},
     "output_type": "execute_result"
    }
   ],
   "source": [
    "bigram2 = [list(bigrams(words)) for words in complete2]\n",
    "bigram2c = list(itertools.chain(*bigram2))\n",
    "bigram_counter2 = collections.Counter(bigram2c)\n",
    "bigram_counter2.most_common(20)"
   ]
  },
  {
   "cell_type": "code",
   "execution_count": 19,
   "metadata": {},
   "outputs": [
    {
     "data": {
      "text/html": [
       "<div>\n",
       "<style scoped>\n",
       "    .dataframe tbody tr th:only-of-type {\n",
       "        vertical-align: middle;\n",
       "    }\n",
       "\n",
       "    .dataframe tbody tr th {\n",
       "        vertical-align: top;\n",
       "    }\n",
       "\n",
       "    .dataframe thead th {\n",
       "        text-align: right;\n",
       "    }\n",
       "</style>\n",
       "<table border=\"1\" class=\"dataframe\">\n",
       "  <thead>\n",
       "    <tr style=\"text-align: right;\">\n",
       "      <th></th>\n",
       "      <th>bigram</th>\n",
       "      <th>count</th>\n",
       "    </tr>\n",
       "  </thead>\n",
       "  <tbody>\n",
       "    <tr>\n",
       "      <th>0</th>\n",
       "      <td>(biden, warns)</td>\n",
       "      <td>59</td>\n",
       "    </tr>\n",
       "    <tr>\n",
       "      <th>1</th>\n",
       "      <td>(warns, u)</td>\n",
       "      <td>54</td>\n",
       "    </tr>\n",
       "    <tr>\n",
       "      <th>2</th>\n",
       "      <td>(enough, shots)</td>\n",
       "      <td>54</td>\n",
       "    </tr>\n",
       "    <tr>\n",
       "      <th>3</th>\n",
       "      <td>(4th, dose)</td>\n",
       "      <td>53</td>\n",
       "    </tr>\n",
       "    <tr>\n",
       "      <th>4</th>\n",
       "      <td>(second, booster)</td>\n",
       "      <td>52</td>\n",
       "    </tr>\n",
       "    <tr>\n",
       "      <th>...</th>\n",
       "      <td>...</td>\n",
       "      <td>...</td>\n",
       "    </tr>\n",
       "    <tr>\n",
       "      <th>245</th>\n",
       "      <td>(hospital, stays)</td>\n",
       "      <td>5</td>\n",
       "    </tr>\n",
       "    <tr>\n",
       "      <th>246</th>\n",
       "      <td>(stays, teens)</td>\n",
       "      <td>5</td>\n",
       "    </tr>\n",
       "    <tr>\n",
       "      <th>247</th>\n",
       "      <td>(teens, 68)</td>\n",
       "      <td>5</td>\n",
       "    </tr>\n",
       "    <tr>\n",
       "      <th>248</th>\n",
       "      <td>(68, kids)</td>\n",
       "      <td>5</td>\n",
       "    </tr>\n",
       "    <tr>\n",
       "      <th>249</th>\n",
       "      <td>(even, lifted)</td>\n",
       "      <td>5</td>\n",
       "    </tr>\n",
       "  </tbody>\n",
       "</table>\n",
       "<p>250 rows × 2 columns</p>\n",
       "</div>"
      ],
      "text/plain": [
       "                bigram  count\n",
       "0       (biden, warns)     59\n",
       "1           (warns, u)     54\n",
       "2      (enough, shots)     54\n",
       "3          (4th, dose)     53\n",
       "4    (second, booster)     52\n",
       "..                 ...    ...\n",
       "245  (hospital, stays)      5\n",
       "246     (stays, teens)      5\n",
       "247        (teens, 68)      5\n",
       "248         (68, kids)      5\n",
       "249     (even, lifted)      5\n",
       "\n",
       "[250 rows x 2 columns]"
      ]
     },
     "execution_count": 19,
     "metadata": {},
     "output_type": "execute_result"
    }
   ],
   "source": [
    "bigram_dip_df = pd.DataFrame(bigram_counter2.most_common(250), columns=['bigram','count'])\n",
    "bigram_dip_df"
   ]
  },
  {
   "cell_type": "code",
   "execution_count": 20,
   "metadata": {},
   "outputs": [],
   "source": [
    "d2 = bigram_dip_df.set_index('bigram').T.to_dict('records')\n",
    "G_dip = nx.Graph()\n",
    "\n",
    "for k, v in d2[0].items():\n",
    "    G_dip.add_edge(k[0], k[1], weight=(v * 10))"
   ]
  },
  {
   "cell_type": "code",
   "execution_count": 21,
   "metadata": {},
   "outputs": [
    {
     "data": {
      "text/plain": [
       "246"
      ]
     },
     "execution_count": 21,
     "metadata": {},
     "output_type": "execute_result"
    }
   ],
   "source": [
    "G_dip.number_of_nodes()"
   ]
  },
  {
   "cell_type": "code",
   "execution_count": 22,
   "metadata": {},
   "outputs": [
    {
     "data": {
      "text/html": [
       "\n",
       "        <iframe\n",
       "            width=\"100%\"\n",
       "            height=\"800px\"\n",
       "            src=\"graph2.html\"\n",
       "            frameborder=\"0\"\n",
       "            allowfullscreen\n",
       "            \n",
       "        ></iframe>\n",
       "        "
      ],
      "text/plain": [
       "<IPython.lib.display.IFrame at 0x1c1f4690850>"
      ]
     },
     "execution_count": 22,
     "metadata": {},
     "output_type": "execute_result"
    }
   ],
   "source": [
    "net_dip = Network(height=\"800px\", width=\"100%\", bgcolor=\"#222222\", font_color=\"white\", notebook=True, directed=False)\n",
    "net_dip.from_nx(G_dip)\n",
    "net_dip.show_buttons(filter_=True)\n",
    "net_dip.show(\"graph2.html\")"
   ]
  },
  {
   "cell_type": "code",
   "execution_count": 23,
   "metadata": {},
   "outputs": [
    {
     "data": {
      "image/png": "[encoded data removed]",
      "text/plain": [
       "<Figure size 800x800 with 3 Axes>"
      ]
     },
     "metadata": {},
     "output_type": "display_data"
    }
   ],
   "source": [
    "degree_sequence2 = sorted((d for n, d in G_dip.degree()), reverse=True)\n",
    "dmax2 = max(degree_sequence)\n",
    "\n",
    "centrality2 = nx.betweenness_centrality(G_dip)\n",
    "\n",
    "closeness2 = nx.closeness_centrality(G_dip)\n",
    "\n",
    "fig = plt.figure(\"Degree of a random graph\", figsize=(8, 8))\n",
    "# Create a gridspec for adding subplots of different sizes\n",
    "axgrid = fig.add_gridspec(5, 4)\n",
    "\n",
    "ax = fig.add_subplot(axgrid[0:3,:])\n",
    "ax.hist(closeness2.values(), bins=100)\n",
    "ax.set_title(\"Dip Closeness histogram\")\n",
    "ax.set_xlabel(\"Closeness\")\n",
    "ax.set_ylabel(\"# of Nodes\")\n",
    "\n",
    "\n",
    "ax1 = fig.add_subplot(axgrid[3:,:2])\n",
    "ax1.hist(centrality2.values(), bins=100)\n",
    "ax1.set_title(\"Dip Betweenness histogram\")\n",
    "ax1.set_xlabel(\"Betweenness\")\n",
    "ax1.set_ylabel(\"# of Nodes\")\n",
    "\n",
    "ax2 = fig.add_subplot(axgrid[3:, 2:])\n",
    "ax2.bar(*np.unique(degree_sequence2, return_counts=True))\n",
    "ax2.set_title(\"Dip Degree histogram\")\n",
    "ax2.set_xlabel(\"Degree\")\n",
    "ax2.set_ylabel(\"# of Nodes\")\n",
    "\n",
    "fig.tight_layout()\n",
    "plt.show()"
   ]
  }
 ],
 "metadata": {
  "kernelspec": {
   "display_name": "Python 3.9.5 64-bit",
   "language": "python",
   "name": "python3"
  },
  "language_info": {
   "codemirror_mode": {
    "name": "ipython",
    "version": 3
   },
   "file_extension": ".py",
   "mimetype": "text/x-python",
   "name": "python",
   "nbconvert_exporter": "python",
   "pygments_lexer": "ipython3",
   "version": "3.9.5"
  },
  "orig_nbformat": 4,
  "vscode": {
   "interpreter": {
    "hash": "2cb316dc1cb7649520000078faeeab63ab4993f92669687fc181249e534c3ab9"
   }
  }
 },
 "nbformat": 4,
 "nbformat_minor": 2
}
